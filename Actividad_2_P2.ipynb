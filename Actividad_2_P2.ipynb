{
  "nbformat": 4,
  "nbformat_minor": 0,
  "metadata": {
    "colab": {
      "name": "Actividad 2 P2.ipynb",
      "provenance": [],
      "authorship_tag": "ABX9TyNPtldBXXbMp3Hdp/BM2TfD",
      "include_colab_link": true
    },
    "kernelspec": {
      "name": "python3",
      "display_name": "Python 3"
    },
    "language_info": {
      "name": "python"
    }
  },
  "cells": [
    {
      "cell_type": "markdown",
      "metadata": {
        "id": "view-in-github",
        "colab_type": "text"
      },
      "source": [
        "<a href=\"https://colab.research.google.com/github/GonzaloGarza/Inteligencia-Artificial-Sabatino-N-/blob/main/Actividad_2_P2.ipynb\" target=\"_parent\"><img src=\"https://colab.research.google.com/assets/colab-badge.svg\" alt=\"Open In Colab\"/></a>"
      ]
    },
    {
      "cell_type": "markdown",
      "metadata": {
        "id": "dfbYtEnK6-Zx"
      },
      "source": [
        "# Ejercicio 1:\n",
        "1.1 Piensa en 7 comidas diferente que te gusten. Implementa un programa que pregunte por las 7 comidas, las almacene en una lista y que posteriermente imprima cada una de ellas utilizando uno de los ciclos comentados en clase. "
      ]
    },
    {
      "cell_type": "code",
      "metadata": {
        "colab": {
          "base_uri": "https://localhost:8080/"
        },
        "id": "_Y0JdEEu678s",
        "outputId": "d4007d62-77fb-4559-f04a-552a45a2fd7f"
      },
      "source": [
        "#Estoi es una lista de comidas favorias \n",
        "l = \"Ingrese sus 7 comidas favoritas\"\n",
        "print(l)\n",
        "c1 = input(\"Ingrese su primera comida favorita: \")\n",
        "c2 = input(\"Ingrese su segunda comida favorita: \")\n",
        "c3 = input(\"Ingrese su tercera comida favorita: \")\n",
        "c4 = input(\"Ingrese su cuarta comida favorita: \")\n",
        "c5 = input(\"Ingrese su quinta comida favorita: \")\n",
        "c6 = input(\"Ingrese su sexta comida favorita: \")\n",
        "c7 = input(\"Ingrese su septima comida favorita: \")\n",
        "lalista = c1, c2, c3, c4, c5, c6, c7\n",
        "for lalista in lalista:\n",
        "  print(f\">{lalista.title()}\")\n",
        "  \n"
      ],
      "execution_count": 30,
      "outputs": [
        {
          "output_type": "stream",
          "name": "stdout",
          "text": [
            "Ingrese sus 7 comidas favoritas\n",
            "Ingrese su primera comida favorita: carne\n",
            "Ingrese su segunda comida favorita: pollo\n",
            "Ingrese su tercera comida favorita: pescado\n",
            "Ingrese su cuarta comida favorita: arroz\n",
            "Ingrese su quinta comida favorita: frijoles\n",
            "Ingrese su sexta comida favorita: pizza\n",
            "Ingrese su septima comida favorita: boneles\n",
            "Carne\n",
            "Pollo\n",
            "Pescado\n",
            "Arroz\n",
            "Frijoles\n",
            "Pizza\n",
            "Boneles\n"
          ]
        }
      ]
    },
    {
      "cell_type": "markdown",
      "metadata": {
        "id": "JcYrGVdy8E6z"
      },
      "source": [
        "# Ejercicio 1:\n",
        "1.2 Modifica el ejercicio 1.1 para que imprima cada una de las comidas favoritas junto con una oracición inicial: \"Una de mis comidas favoritas es [comida1]\"."
      ]
    },
    {
      "cell_type": "code",
      "metadata": {
        "colab": {
          "base_uri": "https://localhost:8080/"
        },
        "id": "PQpK43i4C43A",
        "outputId": "1012af80-3383-40dd-99f3-8170b54fd624"
      },
      "source": [
        "#Estoi es una lista de comidas favorias \n",
        "l = \"Ingrese sus 7 comidas favoritas\"\n",
        "print(l)\n",
        "c1 = input(\"Ingrese su primera comida favorita: \")\n",
        "c2 = input(\"Ingrese su segunda comida favorita: \")\n",
        "c3 = input(\"Ingrese su tercera comida favorita: \")\n",
        "c4 = input(\"Ingrese su cuarta comida favorita: \")\n",
        "c5 = input(\"Ingrese su quinta comida favorita: \")\n",
        "c6 = input(\"Ingrese su sexta comida favorita: \")\n",
        "c7 = input(\"Ingrese su septima comida favorita: \")\n",
        "lalista = c1, c2, c3, c4, c5, c6, c7\n",
        "for lalista in lalista:\n",
        "  print(f\"¡Una de mis comidas favoritas es :{lalista.title()}\")"
      ],
      "execution_count": 57,
      "outputs": [
        {
          "output_type": "stream",
          "name": "stdout",
          "text": [
            "Ingrese sus 7 comidas favoritas\n",
            "Ingrese su primera comida favorita: Pollo\n",
            "Ingrese su segunda comida favorita: percado\n",
            "Ingrese su tercera comida favorita: res\n",
            "Ingrese su cuarta comida favorita: carne\n",
            "Ingrese su quinta comida favorita: pasta\n",
            "Ingrese su sexta comida favorita: arroz\n",
            "Ingrese su septima comida favorita: frijol\n",
            "¡Una de mis comidas favoritas es :Pollo\n",
            "¡Una de mis comidas favoritas es :Percado\n",
            "¡Una de mis comidas favoritas es :Res\n",
            "¡Una de mis comidas favoritas es :Carne\n",
            "¡Una de mis comidas favoritas es :Pasta\n",
            "¡Una de mis comidas favoritas es :Arroz\n",
            "¡Una de mis comidas favoritas es :Frijol\n"
          ]
        }
      ]
    },
    {
      "cell_type": "markdown",
      "metadata": {
        "id": "jgtWB55OMA9g"
      },
      "source": [
        "# Ejercicio 2\n",
        "Crear un juego de piedra, papel o tijera de dos jugadores. El programa preguntará por la opción del jugador 1 y la opción del jugador 2 y dará como resultado quien ganó el juego. "
      ]
    },
    {
      "cell_type": "code",
      "metadata": {
        "colab": {
          "base_uri": "https://localhost:8080/"
        },
        "id": "9UExXFTYORxQ",
        "outputId": "4edef648-f36d-4d09-c10b-d376e260ea9e"
      },
      "source": [
        "#Piedra-Papel-Tijeras\n",
        "a = \"Elije una de las respuestas  Usuario1\"\n",
        "print(a)\n",
        "print(\"1)Piedra\")\n",
        "print(\"2)Papel\")\n",
        "print(\"3)Tijera\")\n",
        "opcion = int(input(\"Que elijes: \"))\n",
        "if opcion == 1:\n",
        "    elijeUsuario1 = \"piedra\"\n",
        "elif opcion == 2:\n",
        "    elijeUsuario1 = \"papel\"\n",
        "elif opcion == 3:\n",
        "    elijeUsuario1 = \"tijera\"\n",
        "print(\"Tu elijes: \", elijeUsuario1)\n",
        "a = \"Elije una de las respuestas Usuario2\"\n",
        "print(a)\n",
        "print(\"1)Piedra\")\n",
        "print(\"2)Papel\")\n",
        "print(\"3)Tijera\")\n",
        "opcion = int(input(\"Que elijes: \"))\n",
        "if opcion == 1:\n",
        "    elijeUsuario2 = \"piedra\"\n",
        "elif opcion == 2: \n",
        "    elijeUsuario2 = \"papel\"\n",
        "elif opcion == 3:\n",
        "    elijeUsuario2 = \"tijera\"\n",
        "print(\"Tu elijes: \", elijeUsuario2)\n",
        "if elijeUsuario2 == \"piedra\" and elijeUsuario1 == \"papel\":\n",
        "    print(\"Ganaste Usuario1, papel envulve piedra\")\n",
        "elif elijeUsuario2  == \"papel\" and elijeUsuario1 == \"tijera\":\n",
        "    print(\"Ganaste Usuario1, Tijera corta papel\")\n",
        "elif elijeUsuario2  == \"tijera\" and elijeUsuario1 == \"piedra\":\n",
        "    print(\"Ganaste Usuario1, Piedra pisa tijera\")\n",
        "if elijeUsuario2 == \"papel\" and elijeUsuario1 == \"piedra\":\n",
        "    print(\"perdiste Usuario1, papel envulve piedra\")\n",
        "elif elijeUsuario2 == \"tijera\" and elijeUsuario1 == \"papel\":\n",
        "    print(\"perdiste Usuario1, Tijera corta papel\")\n",
        "elif elijeUsuario2 == \"piedra\" and elijeUsuario1 == \"tijera\":\n",
        "    print(\"perdiste Usuario1, Piedra pisa tijera\")\n",
        "elif elijeUsuario2 == elijeUsuario1 :\n",
        "    print(\"empate\")"
      ],
      "execution_count": 121,
      "outputs": [
        {
          "output_type": "stream",
          "name": "stdout",
          "text": [
            "Elije una de las respuestas  Usuario1\n",
            "1)Piedra\n",
            "2)Papel\n",
            "3)Tijera\n",
            "Que elijes: 2\n",
            "Tu elijes:  papel\n",
            "Elije una de las respuestas Usuario2\n",
            "1)Piedra\n",
            "2)Papel\n",
            "3)Tijera\n",
            "Que elijes: 1\n",
            "Tu elijes:  piedra\n",
            "Ganaste Usuario1, papel envulve piedra\n"
          ]
        }
      ]
    },
    {
      "cell_type": "markdown",
      "metadata": {
        "id": "AUfjLEnMSBbT"
      },
      "source": [
        "# Ejercicio 3\n",
        "Implementar un programa que imprima el siguiente patron:\n",
        "\n",
        "123456\n",
        "\n",
        "12345\n",
        "\n",
        "1234\n",
        "\n",
        "123\n",
        "\n",
        "12\n",
        "\n",
        "1\n",
        "\n",
        "12\n",
        "\n",
        "123\n",
        "\n",
        "1234\n",
        "\n",
        "12345\n",
        "\n",
        "123456"
      ]
    },
    {
      "cell_type": "code",
      "metadata": {
        "colab": {
          "base_uri": "https://localhost:8080/"
        },
        "id": "xbbN4Ic8POkF",
        "outputId": "2b20d33f-1184-4a5e-892f-2d0e033dd06a"
      },
      "source": [
        "#Como formar lo anterior pedido\n",
        "#Definimos una lista con valores del 1 al 6\n",
        "lista = [1, 2, 3, 4, 5, 6]\n",
        "#Creamos loops para que inprima cada reglon\n",
        "i = 7\n",
        "while i < 8:\n",
        "  print(lista[0:i-1])\n",
        "  i -= 1\n",
        "  if i ==2:\n",
        "    break\n",
        "while i > 1:\n",
        "  print(lista[0:i-1])\n",
        "  i += 1\n",
        "  if i == 8:\n",
        "    break"
      ],
      "execution_count": 1,
      "outputs": [
        {
          "output_type": "stream",
          "name": "stdout",
          "text": [
            "[1, 2, 3, 4, 5, 6]\n",
            "[1, 2, 3, 4, 5]\n",
            "[1, 2, 3, 4]\n",
            "[1, 2, 3]\n",
            "[1, 2]\n",
            "[1]\n",
            "[1, 2]\n",
            "[1, 2, 3]\n",
            "[1, 2, 3, 4]\n",
            "[1, 2, 3, 4, 5]\n",
            "[1, 2, 3, 4, 5, 6]\n"
          ]
        }
      ]
    }
  ]
}