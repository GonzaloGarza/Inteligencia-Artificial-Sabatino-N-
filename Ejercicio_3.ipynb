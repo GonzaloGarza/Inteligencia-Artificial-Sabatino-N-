{
  "nbformat": 4,
  "nbformat_minor": 0,
  "metadata": {
    "colab": {
      "name": "Ejercicio 3.ipynb",
      "provenance": [],
      "authorship_tag": "ABX9TyOJmHsa+Ih5U2oeS50sN7tn",
      "include_colab_link": true
    },
    "kernelspec": {
      "name": "python3",
      "display_name": "Python 3"
    },
    "language_info": {
      "name": "python"
    }
  },
  "cells": [
    {
      "cell_type": "markdown",
      "metadata": {
        "id": "view-in-github",
        "colab_type": "text"
      },
      "source": [
        "<a href=\"https://colab.research.google.com/github/GonzaloGarza/Inteligencia-Artificial-Sabatino-N-/blob/main/Ejercicio_3.ipynb\" target=\"_parent\"><img src=\"https://colab.research.google.com/assets/colab-badge.svg\" alt=\"Open In Colab\"/></a>"
      ]
    },
    {
      "cell_type": "markdown",
      "metadata": {
        "id": "LxW7UeWhbbNb"
      },
      "source": [
        "# Ejercicio 3\n",
        "Crear un programa que evalúe dos expresiones lógicas con `and`, dos con `or` y dos con `not`. Cada expresión deberá hacer uso de operadores de comparación. \n",
        "\n",
        "\n",
        "\n"
      ]
    },
    {
      "cell_type": "code",
      "metadata": {
        "colab": {
          "base_uri": "https://localhost:8080/"
        },
        "id": "cLOt7QhgbqFj",
        "outputId": "943f4364-cda3-4314-babd-8ff8d3f60aea"
      },
      "source": [
        "#Damos de una variable la cual iremos modificando su valor para ver como funcionan los operdores \"and\", \"or\" y \"not\"\n",
        "x = 6\n",
        "#Colocamos en el print el operador que usaremos en esta vez sera en and\n",
        "print(x > 5 and x < 10)\n",
        "#modificamos el valor de la varieble\n",
        "x = 87\n",
        "print(x > 46 and x < 98)\n",
        "#modificamos el valor de la variable \n",
        "x = 7\n",
        "#dentro del print ponemos ahora el \"or\" y realizamos la comporbacion\n",
        "print(x > 2 or x < 8 )\n",
        "#modificamos el valor de la varieble\n",
        "x = 93\n",
        "print(x > 65 or x < 72)\n",
        "#modificamos el valor de la varieble\n",
        "x = 4\n",
        "#dentro del print ponemos ahora el \"not\" y realizamos la comporbacion\n",
        "print(not(x > 2 and x < 9))\n",
        "#modificamos el valor de la varieble\n",
        "x = 50\n",
        "print(not(x > 25 and x < 93))"
      ],
      "execution_count": 2,
      "outputs": [
        {
          "output_type": "stream",
          "name": "stdout",
          "text": [
            "True\n",
            "True\n",
            "True\n",
            "True\n",
            "False\n",
            "False\n"
          ]
        }
      ]
    }
  ]
}