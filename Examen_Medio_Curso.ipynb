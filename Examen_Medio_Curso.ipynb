{
  "nbformat": 4,
  "nbformat_minor": 0,
  "metadata": {
    "colab": {
      "name": "Examen Medio Curso.ipynb",
      "provenance": [],
      "authorship_tag": "ABX9TyP8RuDv6Evq52iay3FHCB+v",
      "include_colab_link": true
    },
    "kernelspec": {
      "name": "python3",
      "display_name": "Python 3"
    },
    "language_info": {
      "name": "python"
    }
  },
  "cells": [
    {
      "cell_type": "markdown",
      "metadata": {
        "id": "view-in-github",
        "colab_type": "text"
      },
      "source": [
        "<a href=\"https://colab.research.google.com/github/GonzaloGarza/Inteligencia-Artificial-Sabatino-N-/blob/main/Examen_Medio_Curso.ipynb\" target=\"_parent\"><img src=\"https://colab.research.google.com/assets/colab-badge.svg\" alt=\"Open In Colab\"/></a>"
      ]
    },
    {
      "cell_type": "markdown",
      "metadata": {
        "id": "Xo5L9oDaDx1T"
      },
      "source": [
        "# Desarrollar un código en python que resuelva lo siguiente:\n",
        "El usuario dará un número al azar y el código calculará la suma de todos los números desde el 1 hasta el número dado por el usuario.\n",
        "Ejemplo: el usuario dió el número 4, el código deberá de dar como resultado 10."
      ]
    },
    {
      "cell_type": "code",
      "metadata": {
        "colab": {
          "base_uri": "https://localhost:8080/"
        },
        "id": "6aW20q5qDkZp",
        "outputId": "f9d2229a-6e6f-453d-b386-6d3a119c191c"
      },
      "source": [
        "#Primero declaremos la variable que usaremos\n",
        "x =\"Ingresa el numero que quieras\"\n",
        "print(x)\n",
        "#Ya que tengamos la variable le daremos la formula \n",
        "n = int(input())\n",
        "#Ya con la variable puesta, este sumara gasta llegar al numero dicho anterilmente \n",
        "print(n * (n + 1) // 2)"
      ],
      "execution_count": 3,
      "outputs": [
        {
          "output_type": "stream",
          "name": "stdout",
          "text": [
            "Ingresa el numero que quieras\n",
            "9\n",
            "45\n"
          ]
        }
      ]
    }
  ]
}