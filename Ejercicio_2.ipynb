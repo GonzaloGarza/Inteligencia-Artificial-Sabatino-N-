{
  "nbformat": 4,
  "nbformat_minor": 0,
  "metadata": {
    "colab": {
      "name": "Ejercicio 2.ipynb",
      "provenance": [],
      "authorship_tag": "ABX9TyOFVudeu+F//ggcmbNrJyTr",
      "include_colab_link": true
    },
    "kernelspec": {
      "name": "python3",
      "display_name": "Python 3"
    },
    "language_info": {
      "name": "python"
    }
  },
  "cells": [
    {
      "cell_type": "markdown",
      "metadata": {
        "id": "view-in-github",
        "colab_type": "text"
      },
      "source": [
        "<a href=\"https://colab.research.google.com/github/GonzaloGarza/Inteligencia-Artificial-Sabatino-N-/blob/main/Ejercicio_2.ipynb\" target=\"_parent\"><img src=\"https://colab.research.google.com/assets/colab-badge.svg\" alt=\"Open In Colab\"/></a>"
      ]
    },
    {
      "cell_type": "markdown",
      "metadata": {
        "id": "1bGjDBLgWM8D"
      },
      "source": [
        "# Ejcericio 2\n",
        "Crear un programa que le pida al usuario capturar dos números enteros y dos números flotantes. Después, realizará la suma, resta, multiplicación y división, de ambos pares de números. Como resultado se deberán de obtener 8 valores. Imprimir todos estos reultados.\n"
      ]
    },
    {
      "cell_type": "code",
      "metadata": {
        "colab": {
          "base_uri": "https://localhost:8080/"
        },
        "id": "cpJI6VX2WXha",
        "outputId": "11784166-ec1c-4ce4-97ef-e0270b5db602"
      },
      "source": [
        "a = \"Ingrese  dos valores de numeros enteros (ejemplo: 1,2,3,4....\"\n",
        "print(a)\n",
        "n1 = int(input(\"Ingresar un numero entero: \"))\n",
        "n2 = int(input(\"Ingresar un numero entero: \"))\n",
        "\n",
        "b = \"Ingrese  dos valores de numeros flotante (ejemplo: 1.4, 1.8.....)\"\n",
        "print(b)\n",
        "n3 = float(input(\"Ingresar un numero flotante: \"))\n",
        "n4 = float(input(\"Ingresar un numero flotante: \"))\n",
        "\n",
        "c = \"Resultados de numeros enteros\"\n",
        "print(c)\n",
        "sum = (n1 + n2)\n",
        "print(\"la suma es: \",sum)\n",
        "res = n1 - n2\n",
        "print(\"la resta es: \",res)\n",
        "mult = n1 * n2\n",
        "print(\"la multiplicacion es: \",mult)\n",
        "div = n1 / n2\n",
        "print(\"la divicion es: \",div)\n",
        "\n",
        "d = \"Resultados de numeros flotantes\"\n",
        "print(d)\n",
        "sum = (n3 + n4)\n",
        "print(\"la suma es: \",sum)\n",
        "res = n3 - n4\n",
        "print(\"la resta es: \",res)\n",
        "mult = n3 * n4\n",
        "print(\"la multiplicacion es: \",mult)\n",
        "div = n3 / n4\n",
        "print(\"la divicion es: \",div)\n"
      ],
      "execution_count": 10,
      "outputs": [
        {
          "output_type": "stream",
          "name": "stdout",
          "text": [
            "Ingrese  dos valores de numeros enteros (ejemplo: 1,2,3,4....\n",
            "Ingresar un numero entero: 7\n",
            "Ingresar un numero entero: 5\n",
            "Ingrese  dos valores de numeros flotante (ejemplo: 1.4, 1.8.....)\n",
            "Ingresar un numero flotante: 3.5\n",
            "Ingresar un numero flotante: 5.8\n",
            "Resultados de numeros enteros\n",
            "la suma es:  12\n",
            "la resta es:  2\n",
            "la multiplicacion es:  35\n",
            "la divicion es:  1.4\n",
            "Resultados de numeros flotantes\n",
            "la suma es:  9.3\n",
            "la resta es:  -2.3\n",
            "la multiplicacion es:  20.3\n",
            "la divicion es:  0.603448275862069\n"
          ]
        }
      ]
    }
  ]
}